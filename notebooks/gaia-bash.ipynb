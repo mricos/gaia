{
 "cells": [
  {
   "cell_type": "markdown",
   "id": "acfbe27a-98a0-4cfe-8117-162ee105cbef",
   "metadata": {
    "tags": []
   },
   "source": [
    "# Bash Pre-processing"
   ]
  },
  {
   "cell_type": "code",
   "execution_count": 21,
   "id": "4d247c7c-85f4-432b-9fbc-8a0e21a91287",
   "metadata": {
    "tags": []
   },
   "outputs": [
    {
     "name": "stdout",
     "output_type": "stream",
     "text": [
      "/home/devops/src/gaia/notebooks\n"
     ]
    }
   ],
   "source": [
    "# should be /home/devops/src/gaia/\n",
    "!pwd\n",
    "dir=/home/devops/src/gaia/cli"
   ]
  },
  {
   "cell_type": "code",
   "execution_count": 28,
   "id": "99838416-3307-4702-a980-69899861d37a",
   "metadata": {
    "tags": []
   },
   "outputs": [
    {
     "name": "stdout",
     "output_type": "stream",
     "text": [
      "/bin/bash: ../gaia.sh: No such file or directory\n",
      "2 chapterStart C1: Introduction\n",
      "\n",
      "9 chapterStart C2: Taking a leap into the deeply personal\n",
      "\n",
      "15 promptStart P1: Since living systems do not exist independently in \n",
      "16 promptStart P2: Integrity is a function of how well a system is int\n",
      "17 promptStart P3: The problem with living in a dream is that real peo\n",
      "18 promptStart P4: If I'm not feeling my inner body right now, I'm not\n",
      "19 promptStart P5: Since Gaia is what's real, any gap in honesty separ\n",
      "20 promptStart P6: How much power do you think you have? How much do y\n"
     ]
    }
   ],
   "source": [
    "# Bash functions for indexing raw text.\n",
    "!source ../gaia.sh && gaia-clean && gaia-index\n",
    "!cp ../cli/clean.* .\n",
    "!head clean.index"
   ]
  },
  {
   "cell_type": "markdown",
   "id": "792a7d17-3fed-4c2b-b3d0-acd8c571a73c",
   "metadata": {
    "tags": []
   },
   "source": [
    "## Raw text exploration with Bash commandline processing\n",
    "\n",
    "Nothing is faster than [xxd](), [sed](https://www.grymoire.com/Unix/Sed.html), [awk](https://www.gnu.org/software/gawk/manual/gawk.html) and [tr](https://linuxize.com/post/linux-tr-command/) for cleaning up text files.\n",
    "\n",
    "tool | scope | notes \n",
    "-----|-----|-----\n",
    "xxd | raw hex | like a microscope- displays code point for every byte (new line =0x0a)\n",
    "tr  |  character | good for mapping out troublesome characters \n",
    "sed |  word | line by line processor without memory so it is good for splitting lines into tokens and cajoling text on the character and word level.\n",
    "awk | line |Provides default $1, $2, $3 etc as tokens for current line and provides more sophisticated conditional logic."
   ]
  },
  {
   "cell_type": "code",
   "execution_count": 26,
   "id": "d2ab9604-9955-4c44-824f-55ee6ed7d93e",
   "metadata": {
    "tags": []
   },
   "outputs": [
    {
     "name": "stdout",
     "output_type": "stream",
     "text": [
      "   221\tKnowing Gaia is an attitude.\n",
      "   222\tI must always reconsider.\n",
      "   223\tI can go back to silence.\n",
      "   224\tI can start over.\n",
      "   225\tYou will find your own words and your own silence.\n",
      "   226\tYou will find your own way of knowing Gaia.\n",
      "   227\tPat Adducci\n",
      "   228\tYucca Valley, California\n",
      "   229\tMay 15, 2020\n",
      "   230\tpatadducci1940@gmail.com\n"
     ]
    }
   ],
   "source": [
    "# blast it out with line numbers\n",
    "# pipe it into less to page thru and look for big issues\n",
    "! cat -n ../cli/clean.txt | tail"
   ]
  },
  {
   "cell_type": "code",
   "execution_count": 24,
   "id": "58e2e889-e14d-4d18-975f-0463047650e1",
   "metadata": {
    "tags": []
   },
   "outputs": [],
   "source": [
    "# notice the double new lines 0a0a in the middle of this output:\n",
    "! cat clean.txt | xxd | tail"
   ]
  },
  {
   "cell_type": "code",
   "execution_count": 25,
   "id": "81f1cde4-7bbe-4791-b36f-6a50bb8a31fb",
   "metadata": {
    "tags": []
   },
   "outputs": [
    {
     "name": "stdout",
     "output_type": "stream",
     "text": [
      "      0       0       0\n"
     ]
    }
   ],
   "source": [
    "# lets see how many lines are new lines\n",
    "!grep \"\\n\" < clean.txt | wc"
   ]
  },
  {
   "cell_type": "code",
   "execution_count": null,
   "id": "cdfd8200-920b-49ca-87f4-256c650fe554",
   "metadata": {},
   "outputs": [],
   "source": []
  }
 ],
 "metadata": {
  "kernelspec": {
   "display_name": "Python 3 (ipykernel)",
   "language": "python",
   "name": "python3"
  },
  "language_info": {
   "codemirror_mode": {
    "name": "ipython",
    "version": 3
   },
   "file_extension": ".py",
   "mimetype": "text/x-python",
   "name": "python",
   "nbconvert_exporter": "python",
   "pygments_lexer": "ipython3",
   "version": "3.8.10"
  }
 },
 "nbformat": 4,
 "nbformat_minor": 5
}
