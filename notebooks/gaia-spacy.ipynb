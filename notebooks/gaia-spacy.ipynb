{
 "cells": [
  {
   "cell_type": "markdown",
   "id": "53ec682a-ebda-421a-9db8-e46e820c7816",
   "metadata": {
    "tags": []
   },
   "source": [
    "# Exploring Text with SpaCy"
   ]
  },
  {
   "cell_type": "markdown",
   "id": "d2edfa2c-ef72-410b-85c3-c7f500c17fdc",
   "metadata": {
    "tags": []
   },
   "source": [
    "## The spaCy pipeline\n",
    "\n",
    "\"When you call nlp on a text, spaCy first tokenizes the text to produce a Doc object. The Doc is then processed in several different steps – this is also referred to as the processing [pipeline](https://spacy.io/usage/processing-pipelines).\" \n",
    "\n",
    "From https://course.spacy.io/en/chapter3\n",
    "\n",
    "<img src=\"https://spacy.io/images/pipeline.svg\">"
   ]
  },
  {
   "cell_type": "code",
   "execution_count": 36,
   "id": "2f20fdad-2ac1-46cf-9eb1-09166bd3c1a0",
   "metadata": {
    "tags": []
   },
   "outputs": [
    {
     "name": "stdout",
     "output_type": "stream",
     "text": [
      "['tok2vec', 'tagger', 'parser', 'attribute_ruler', 'lemmatizer', 'ner']\n"
     ]
    }
   ],
   "source": [
    "import sys\n",
    "import spacy\n",
    "nlp = spacy.load(\"en_core_web_md\") #_sm does not have word vectors\n",
    "print(nlp.pipe_names)"
   ]
  },
  {
   "cell_type": "markdown",
   "id": "7a2b1bf3-61cb-425b-ba6e-e62dc5683ed2",
   "metadata": {},
   "source": [
    "## Adding sentiment via TextBlob"
   ]
  },
  {
   "cell_type": "code",
   "execution_count": 37,
   "id": "b7d8b7c6-202f-4366-b14e-2047d6582eb2",
   "metadata": {
    "tags": []
   },
   "outputs": [
    {
     "name": "stdout",
     "output_type": "stream",
     "text": [
      "['tok2vec', 'tagger', 'parser', 'attribute_ruler', 'lemmatizer', 'ner', 'spacytextblob']\n"
     ]
    }
   ],
   "source": [
    "from spacytextblob.spacytextblob import SpacyTextBlob\n",
    "nlp.add_pipe('spacytextblob')\n",
    "print(nlp.pipe_names)"
   ]
  },
  {
   "cell_type": "markdown",
   "id": "619de1fa-f856-4ba0-9d1a-860bd58439c7",
   "metadata": {
    "tags": []
   },
   "source": [
    "## Exploring document structure"
   ]
  },
  {
   "cell_type": "code",
   "execution_count": 38,
   "id": "417387d7-4b69-4575-8fe4-8a450adce477",
   "metadata": {},
   "outputs": [],
   "source": [
    "# Break the corpus into:\n",
    "# Title, Chapters, Sections, Paragraphs, Thoughts, Sentences\n",
    "#  Title: Knowing Gaia\n",
    "#  C1:Introduction 1 section, 6 paragraphs\n",
    "#  C2:Taking a leap 8 sections, 7 paragraphs\n",
    "#  C3-C10: each with 10 sections  thought-embedding \n",
    "#  C11: Contemplation: 2 sections"
   ]
  },
  {
   "cell_type": "code",
   "execution_count": 71,
   "id": "a4584c56-222d-4302-b5b4-875a76d1e67c",
   "metadata": {},
   "outputs": [],
   "source": [
    "# Open the text file and read its content into a variable\n",
    "with open('../assets/clean.txt', 'r') as file:\n",
    "    text = file.read()\n",
    "\n",
    "doc=nlp(text)"
   ]
  },
  {
   "cell_type": "code",
   "execution_count": 40,
   "id": "3d8dcf13-6d9e-43b6-930c-5844d8039a9c",
   "metadata": {},
   "outputs": [
    {
     "name": "stdout",
     "output_type": "stream",
     "text": [
      "['traditional', 'non', '-', 'duality', 'speakers', ',', 'I', 'was', 'inspired']\n"
     ]
    }
   ],
   "source": [
    "# Before extra bash cleaning:\n",
    "#print([tok.text for tok in doc[21:30] \n",
    "# if not tok.is_stop and tok.text!=\"\\n\\n\"])\n",
    "\n",
    "# After extra bash cleaning:\n",
    "print([tok.text for tok in doc[21:30]])"
   ]
  },
  {
   "cell_type": "code",
   "execution_count": 41,
   "id": "aca3253b-26b5-4bd9-b51c-9fa0623670bb",
   "metadata": {
    "tags": []
   },
   "outputs": [
    {
     "data": {
      "text/plain": [
       "spacy.tokens.span.Span"
      ]
     },
     "execution_count": 41,
     "metadata": {},
     "output_type": "execute_result"
    }
   ],
   "source": [
    "sents=[ sent for sent in doc.sents]\n",
    "type(sents[0])"
   ]
  },
  {
   "cell_type": "code",
   "execution_count": 42,
   "id": "f5ee4b18-98de-4f34-8864-fe20859ecf80",
   "metadata": {
    "tags": []
   },
   "outputs": [],
   "source": [
    "nlp.vocab[\"\\n\"].is_stop = True\n",
    "words=[token.text for token in doc\n",
    "       if not token.is_stop and not token.is_punct ]"
   ]
  },
  {
   "cell_type": "code",
   "execution_count": 43,
   "id": "34b7fcd9-d149-4c58-bdea-bcf6719c5942",
   "metadata": {
    "tags": []
   },
   "outputs": [],
   "source": [
    "from collections import Counter\n",
    "word_freq=Counter(words)"
   ]
  },
  {
   "cell_type": "code",
   "execution_count": 44,
   "id": "14dacb1c-e256-4c3e-9eb6-204c5514d874",
   "metadata": {
    "tags": []
   },
   "outputs": [],
   "source": [
    "common_words = word_freq.most_common(30)"
   ]
  },
  {
   "cell_type": "code",
   "execution_count": 45,
   "id": "ea945609-aed3-41f3-a203-da07840893e5",
   "metadata": {
    "tags": []
   },
   "outputs": [
    {
     "name": "stdout",
     "output_type": "stream",
     "text": [
      "[('Gaia', 190), ('want', 99), ('know', 78), ('people', 75), ('self', 71), ('like', 68), ('system', 61), ('need', 58), ('think', 53), ('experience', 52), ('feel', 48), ('life', 46), ('feeling', 46), ('power', 44), ('body', 41), ('dream', 40), ('attention', 39), ('person', 38), ('mind', 35), ('systems', 34), ('living', 33), ('right', 33), ('way', 30), ('ideology', 30), ('emotions', 29), ('work', 29), ('time', 28), ('thinking', 27), ('away', 26), ('touch', 26)]\n"
     ]
    }
   ],
   "source": [
    "print(common_words)"
   ]
  },
  {
   "cell_type": "code",
   "execution_count": 46,
   "id": "5b7a3403-626e-484e-a634-8030ce6f3a05",
   "metadata": {
    "tags": []
   },
   "outputs": [
    {
     "name": "stdout",
     "output_type": "stream",
     "text": [
      "Gaia NNP PROPN noun, proper singular\n",
      "\n",
      " _SP SPACE whitespace\n",
      "C1 NNP PROPN noun, proper singular\n",
      ": : PUNCT punctuation mark, colon or ellipsis\n",
      "Introduction NN NOUN noun, singular or mass\n",
      "\n",
      " _SP SPACE whitespace\n",
      "After IN ADP conjunction, subordinating or preposition\n",
      "many JJ ADJ adjective (English), other noun-modifier (Chinese)\n",
      "years NNS NOUN noun, plural\n"
     ]
    }
   ],
   "source": [
    "for token in doc[1:10]:\n",
    "    print(token, token.tag_, token.pos_, spacy.explain(token.tag_))"
   ]
  },
  {
   "cell_type": "code",
   "execution_count": 47,
   "id": "441f8605-0ad6-4450-a46b-5af7dd67285f",
   "metadata": {
    "tags": []
   },
   "outputs": [
    {
     "name": "stdout",
     "output_type": "stream",
     "text": [
      "Total nouns: 660 \n",
      "First 5 nouns: [Introduction, years, study, practice, speakers]\n",
      "Total adjectives: 282\n",
      "First 5 adjectives: [many, Buddhist, traditional, non, duality]\n"
     ]
    }
   ],
   "source": [
    "nouns = []\n",
    "adjectives = []\n",
    "for token in [t for t in doc[2:4000] if t.text != \"-\"]:\n",
    "    if token.pos_ == 'NOUN':\n",
    "        nouns.append(token)\n",
    "    if token.pos_ == 'ADJ':\n",
    "        adjectives.append(token)\n",
    "\n",
    "print(f'Total nouns: {len(nouns)} \\nFirst 5 nouns: {nouns[:5]}')\n",
    "print(f'Total adjectives: {len(adjectives)}')\n",
    "print(f'First 5 adjectives: {adjectives[:5]}')"
   ]
  },
  {
   "cell_type": "code",
   "execution_count": 48,
   "id": "112cc59a-47dc-4232-bc8f-d9e734600e66",
   "metadata": {
    "tags": []
   },
   "outputs": [],
   "source": [
    "from spacy import displacy\n",
    "# Creates large image of relations\n",
    "#displacy.render(ss[3:4], style='dep', jupyter=True)"
   ]
  },
  {
   "cell_type": "markdown",
   "id": "97ba2d6b-4711-4a06-835a-a6c4a199d14d",
   "metadata": {
    "tags": []
   },
   "source": [
    "### A SpaCy Document is a list of tokens\n",
    "SpaCy **Doc** data structure is a sequence of Token objects allowing access to **sentences** \n",
    "and named entities."
   ]
  },
  {
   "cell_type": "code",
   "execution_count": 49,
   "id": "a6f3e986-b29a-4dae-b072-87f129e2a7f4",
   "metadata": {
    "tags": []
   },
   "outputs": [
    {
     "name": "stdout",
     "output_type": "stream",
     "text": [
      "Found proper noun before a verb: NASA\n",
      "Found proper noun before a verb: jellyfish\n",
      "Found proper noun before a verb: LeGuin\n",
      "Found proper noun before a verb: Contemplation\n",
      "Found proper noun before a verb: Gaia\n",
      "Found proper noun before a verb: Contemplation\n",
      "300\n",
      "Simularity between : and         0.615739643573761\n"
     ]
    }
   ],
   "source": [
    "# Get all tokens and part-of-speech tags\n",
    "token_texts = [token.text for token in doc]\n",
    "pos_tags = [token.pos_ for token in doc]\n",
    "\n",
    "# Iterate over first 2000 tokens\n",
    "for token in doc[1:2000]:\n",
    "    # Check if the current token is a proper noun\n",
    "    if token.pos_ == \"PROPN\":\n",
    "        # Check if the next token is a verb\n",
    "        if doc[token.i + 1].pos_ == \"VERB\":\n",
    "            print(\"Found proper noun before a verb:\", token.text)\n",
    "\n",
    "center=4\n",
    "width=4\n",
    "print(f'{len(doc[1].vector)}')\n",
    "print(f'Simularity between {doc[center].text} and \\\n",
    "        {doc[center].similarity(doc[center-width:center+width])}')"
   ]
  },
  {
   "cell_type": "code",
   "execution_count": 50,
   "id": "1ceb459a-9cff-4b2e-b157-bf894a774789",
   "metadata": {},
   "outputs": [],
   "source": [
    "# Each vocabulary word has a 300 dim vector which is a word2vec vector\n",
    "# Dot product is not normalized but seems to work"
   ]
  },
  {
   "cell_type": "code",
   "execution_count": 51,
   "id": "d49d7d10-9add-4127-bbd1-5192cbfe4698",
   "metadata": {},
   "outputs": [
    {
     "data": {
      "text/plain": [
       "126.3143"
      ]
     },
     "execution_count": 51,
     "metadata": {},
     "output_type": "execute_result"
    }
   ],
   "source": [
    "import numpy\n",
    "numpy.dot(doc.vocab['earth'].vector,doc.vocab['gaia'].vector)"
   ]
  },
  {
   "cell_type": "code",
   "execution_count": 52,
   "id": "9d929d40-b122-4276-afe3-989b8271f298",
   "metadata": {
    "tags": []
   },
   "outputs": [
    {
     "name": "stdout",
     "output_type": "stream",
     "text": [
      "[(3, 720), (720, 1912), (1912, 3603), (3603, 4985), (4985, 7204), (7204, 9617), (9617, 12594), (12594, 16739), (16739, 20888), (20888, 24152), (24152, None)]\n"
     ]
    }
   ],
   "source": [
    "from itertools import product\n",
    "from itertools import zip_longest\n",
    "c=[\"C1\", \"C2\", \"C3\", \"C4\", \"C5\", \"C6\", \"C7\", \"C8\", \"C9\", \"C10\", \"C11\"]\n",
    "starts=[ t.i for chap in c for t in doc if t.text==chap]\n",
    "ci=list(zip_longest(starts,starts[1:]))\n",
    "chaps=[ doc[s[0]:s[1]] for s in ci] # list of spans\n",
    "print(ci)"
   ]
  },
  {
   "cell_type": "code",
   "execution_count": 53,
   "id": "79dcfe28-d971-42ba-afba-ad61fdc04b7d",
   "metadata": {},
   "outputs": [],
   "source": [
    "pts=[\"P1\", \"P2\", \"P3\", \"P4\", \"P5\", \"P6\", \"P7\", \"P8\", \"P9\", \"P10\", \"P11\"]\n",
    "chap=5\n",
    "prompt=3\n",
    "pis=[ t.i for pstr in pts for t in chaps[chap] if t.text==pstr]\n",
    "pi=list(zip_longest(pis,pis[1:])) # iterator can only be used once\n",
    "ptexts=[ chaps[chap][s[0]:s[1]] for s in pi]\n",
    "chap6prompts=[ doc[s[0]:s[1]] for s in pi]\n",
    "sents=list(doc[pis[prompt-1]:pis[prompt]].sents)"
   ]
  },
  {
   "cell_type": "code",
   "execution_count": 54,
   "id": "1b8c6447-774a-4ac9-8ee2-e3268ee2bd02",
   "metadata": {
    "tags": []
   },
   "outputs": [],
   "source": [
    "with open(\"./spacy.html\", 'w', encoding='utf-8') as f:\n",
    "    f.write(\"<!DOCMENT HTML>\")\n",
    "    f.write(\"<html><head><style>\")\n",
    "    f.write(\"html{ font-family: monospace; color:#888}\")    \n",
    "    f.write(\"</style>\")\n",
    "    for c in chaps:\n",
    "        f.write(f'<h1>{c[1:3].text}</h1>')\n",
    "        f.write(c.text)\n",
    "        \n",
    "    f.write(\"</html>\")"
   ]
  },
  {
   "cell_type": "markdown",
   "id": "f7bc03d4-b215-4779-a94c-ed3a466ff9f6",
   "metadata": {},
   "source": [
    "## Adding spans to Doc"
   ]
  },
  {
   "cell_type": "code",
   "execution_count": 55,
   "id": "089d2373-a750-4aac-a6a9-fac82d5ab71b",
   "metadata": {
    "tags": []
   },
   "outputs": [
    {
     "data": {
      "text/html": [
       "<span class=\"tex2jax_ignore\"><div class=\"spans\" style=\"line-height: 2.5; direction: ltr\">C1 : \n",
       "<span style=\"font-weight: bold; display: inline-block; position: relative; height: 60px;\">\n",
       "    Introduction\n",
       "    \n",
       "<span style=\"background: orange; top: 40px; height: 4px; left: -1px; width: calc(100% + 2px); position: absolute;\">\n",
       "</span>\n",
       "\n",
       "    \n",
       "<span style=\"background: orange; top: 40px; height: 4px; border-top-left-radius: 3px; border-bottom-left-radius: 3px; left: -1px; width: calc(100% + 2px); position: absolute;\">\n",
       "    <span style=\"background: orange; z-index: 10; color: #000; top: -0.5em; padding: 2px 3px; position: absolute; font-size: 0.6em; font-weight: bold; line-height: 1; border-radius: 3px\">\n",
       "        THOUGHT\n",
       "    </span>\n",
       "</span>\n",
       "\n",
       "\n",
       "</span>\n",
       "\n",
       " \n",
       "<span style=\"font-weight: bold; display: inline-block; position: relative; height: 77px;\">\n",
       "    After\n",
       "    \n",
       "<span style=\"background: orange; top: 40px; height: 4px; left: -1px; width: calc(100% + 2px); position: absolute;\">\n",
       "</span>\n",
       "\n",
       "<span style=\"background: green; top: 57px; height: 4px; left: -1px; width: calc(100% + 2px); position: absolute;\">\n",
       "</span>\n",
       "\n",
       "    \n",
       "<span style=\"background: green; top: 57px; height: 4px; border-top-left-radius: 3px; border-bottom-left-radius: 3px; left: -1px; width: calc(100% + 2px); position: absolute;\">\n",
       "    <span style=\"background: green; z-index: 10; color: #000; top: -0.5em; padding: 2px 3px; position: absolute; font-size: 0.6em; font-weight: bold; line-height: 1; border-radius: 3px\">\n",
       "        PHRASE1\n",
       "    </span>\n",
       "</span>\n",
       "\n",
       "\n",
       "</span>\n",
       "\n",
       "<span style=\"font-weight: bold; display: inline-block; position: relative; height: 77px;\">\n",
       "    many\n",
       "    \n",
       "<span style=\"background: orange; top: 40px; height: 4px; left: -1px; width: calc(100% + 2px); position: absolute;\">\n",
       "</span>\n",
       "\n",
       "<span style=\"background: green; top: 57px; height: 4px; left: -1px; width: calc(100% + 2px); position: absolute;\">\n",
       "</span>\n",
       "\n",
       "    \n",
       "</span>\n",
       "\n",
       "<span style=\"font-weight: bold; display: inline-block; position: relative; height: 77px;\">\n",
       "    years\n",
       "    \n",
       "<span style=\"background: orange; top: 40px; height: 4px; left: -1px; width: calc(100% + 2px); position: absolute;\">\n",
       "</span>\n",
       "\n",
       "<span style=\"background: green; top: 57px; height: 4px; left: -1px; width: calc(100% + 2px); position: absolute;\">\n",
       "</span>\n",
       "\n",
       "    \n",
       "</span>\n",
       "\n",
       "<span style=\"font-weight: bold; display: inline-block; position: relative; height: 77px;\">\n",
       "    of\n",
       "    \n",
       "<span style=\"background: orange; top: 40px; height: 4px; left: -1px; width: calc(100% + 2px); position: absolute;\">\n",
       "</span>\n",
       "\n",
       "<span style=\"background: green; top: 57px; height: 4px; left: -1px; width: calc(100% + 2px); position: absolute;\">\n",
       "</span>\n",
       "\n",
       "    \n",
       "</span>\n",
       "\n",
       "<span style=\"font-weight: bold; display: inline-block; position: relative; height: 77px;\">\n",
       "    Buddhist\n",
       "    \n",
       "<span style=\"background: orange; top: 40px; height: 4px; left: -1px; width: calc(100% + 2px); position: absolute;\">\n",
       "</span>\n",
       "\n",
       "<span style=\"background: green; top: 57px; height: 4px; left: -1px; width: calc(100% + 2px); position: absolute;\">\n",
       "</span>\n",
       "\n",
       "    \n",
       "</span>\n",
       "\n",
       "<span style=\"font-weight: bold; display: inline-block; position: relative; height: 77px;\">\n",
       "    study\n",
       "    \n",
       "<span style=\"background: orange; top: 40px; height: 4px; left: -1px; width: calc(100% + 2px); position: absolute;\">\n",
       "</span>\n",
       "\n",
       "<span style=\"background: green; top: 57px; height: 4px; left: -1px; width: calc(100% + 2px); position: absolute;\">\n",
       "</span>\n",
       "\n",
       "    \n",
       "</span>\n",
       "\n",
       "<span style=\"font-weight: bold; display: inline-block; position: relative; height: 77px;\">\n",
       "    and\n",
       "    \n",
       "<span style=\"background: orange; top: 40px; height: 4px; left: -1px; width: calc(100% + 2px); position: absolute;\">\n",
       "</span>\n",
       "\n",
       "<span style=\"background: green; top: 57px; height: 4px; left: -1px; width: calc(100% + 2px); position: absolute;\">\n",
       "</span>\n",
       "\n",
       "    \n",
       "</span>\n",
       "\n",
       "<span style=\"font-weight: bold; display: inline-block; position: relative; height: 77px;\">\n",
       "    practice\n",
       "    \n",
       "<span style=\"background: orange; top: 40px; height: 4px; left: -1px; width: calc(100% + 2px); position: absolute;\">\n",
       "</span>\n",
       "\n",
       "<span style=\"background: green; top: 57px; height: 4px; left: -1px; width: calc(100% + 2px); position: absolute;\">\n",
       "</span>\n",
       "\n",
       "    \n",
       "</span>\n",
       "\n",
       "<span style=\"font-weight: bold; display: inline-block; position: relative; height: 77px;\">\n",
       "    ,\n",
       "    \n",
       "<span style=\"background: orange; top: 40px; height: 4px; left: -1px; width: calc(100% + 2px); position: absolute;\">\n",
       "</span>\n",
       "\n",
       "<span style=\"background: green; top: 57px; height: 4px; left: -1px; width: calc(100% + 2px); position: absolute;\">\n",
       "</span>\n",
       "\n",
       "    \n",
       "</span>\n",
       "\n",
       "<span style=\"font-weight: bold; display: inline-block; position: relative; height: 77px;\">\n",
       "    and\n",
       "    \n",
       "<span style=\"background: orange; top: 40px; height: 4px; left: -1px; width: calc(100% + 2px); position: absolute;\">\n",
       "</span>\n",
       "\n",
       "<span style=\"background: green; top: 57px; height: 4px; left: -1px; width: calc(100% + 2px); position: absolute;\">\n",
       "</span>\n",
       "\n",
       "    \n",
       "</span>\n",
       "\n",
       "<span style=\"font-weight: bold; display: inline-block; position: relative; height: 77px;\">\n",
       "    being\n",
       "    \n",
       "<span style=\"background: orange; top: 40px; height: 4px; left: -1px; width: calc(100% + 2px); position: absolute;\">\n",
       "</span>\n",
       "\n",
       "<span style=\"background: green; top: 57px; height: 4px; left: -1px; width: calc(100% + 2px); position: absolute;\">\n",
       "</span>\n",
       "\n",
       "    \n",
       "</span>\n",
       "\n",
       "<span style=\"font-weight: bold; display: inline-block; position: relative; height: 77px;\">\n",
       "    influenced\n",
       "    \n",
       "<span style=\"background: orange; top: 40px; height: 4px; left: -1px; width: calc(100% + 2px); position: absolute;\">\n",
       "</span>\n",
       "\n",
       "<span style=\"background: green; top: 57px; height: 4px; left: -1px; width: calc(100% + 2px); position: absolute;\">\n",
       "</span>\n",
       "\n",
       "    \n",
       "</span>\n",
       "\n",
       "<span style=\"font-weight: bold; display: inline-block; position: relative; height: 77px;\">\n",
       "    by\n",
       "    \n",
       "<span style=\"background: orange; top: 40px; height: 4px; left: -1px; width: calc(100% + 2px); position: absolute;\">\n",
       "</span>\n",
       "\n",
       "<span style=\"background: green; top: 57px; height: 4px; left: -1px; width: calc(100% + 2px); position: absolute;\">\n",
       "</span>\n",
       "\n",
       "    \n",
       "</span>\n",
       "\n",
       "<span style=\"font-weight: bold; display: inline-block; position: relative; height: 77px;\">\n",
       "    less\n",
       "    \n",
       "<span style=\"background: orange; top: 40px; height: 4px; left: -1px; width: calc(100% + 2px); position: absolute;\">\n",
       "</span>\n",
       "\n",
       "<span style=\"background: green; top: 57px; height: 4px; left: -1px; width: calc(100% + 2px); position: absolute;\">\n",
       "</span>\n",
       "\n",
       "    \n",
       "</span>\n",
       "\n",
       "<span style=\"font-weight: bold; display: inline-block; position: relative; height: 77px;\">\n",
       "    traditional\n",
       "    \n",
       "<span style=\"background: orange; top: 40px; height: 4px; left: -1px; width: calc(100% + 2px); position: absolute;\">\n",
       "</span>\n",
       "\n",
       "<span style=\"background: green; top: 57px; height: 4px; left: -1px; width: calc(100% + 2px); position: absolute;\">\n",
       "</span>\n",
       "\n",
       "    \n",
       "</span>\n",
       "\n",
       "<span style=\"font-weight: bold; display: inline-block; position: relative; height: 77px;\">\n",
       "    non\n",
       "    \n",
       "<span style=\"background: orange; top: 40px; height: 4px; left: -1px; width: calc(100% + 2px); position: absolute;\">\n",
       "</span>\n",
       "\n",
       "<span style=\"background: green; top: 57px; height: 4px; left: -1px; width: calc(100% + 2px); position: absolute;\">\n",
       "</span>\n",
       "\n",
       "    \n",
       "</span>\n",
       "\n",
       "<span style=\"font-weight: bold; display: inline-block; position: relative; height: 77px;\">\n",
       "    -\n",
       "    \n",
       "<span style=\"background: orange; top: 40px; height: 4px; left: -1px; width: calc(100% + 2px); position: absolute;\">\n",
       "</span>\n",
       "\n",
       "<span style=\"background: green; top: 57px; height: 4px; left: -1px; width: calc(100% + 2px); position: absolute;\">\n",
       "</span>\n",
       "\n",
       "    \n",
       "</span>\n",
       "\n",
       "<span style=\"font-weight: bold; display: inline-block; position: relative; height: 77px;\">\n",
       "    duality\n",
       "    \n",
       "<span style=\"background: orange; top: 40px; height: 4px; left: -1px; width: calc(100% + 2px); position: absolute;\">\n",
       "</span>\n",
       "\n",
       "<span style=\"background: green; top: 57px; height: 4px; left: -1px; width: calc(100% + 2px); position: absolute;\">\n",
       "</span>\n",
       "\n",
       "    \n",
       "</span>\n",
       "\n",
       "<span style=\"font-weight: bold; display: inline-block; position: relative; height: 77px;\">\n",
       "    speakers\n",
       "    \n",
       "<span style=\"background: orange; top: 40px; height: 4px; left: -1px; width: calc(100% + 2px); position: absolute;\">\n",
       "</span>\n",
       "\n",
       "<span style=\"background: green; top: 57px; height: 4px; left: -1px; width: calc(100% + 2px); position: absolute;\">\n",
       "</span>\n",
       "\n",
       "    \n",
       "</span>\n",
       "\n",
       "<span style=\"font-weight: bold; display: inline-block; position: relative; height: 60px;\">\n",
       "    ,\n",
       "    \n",
       "<span style=\"background: orange; top: 40px; height: 4px; left: -1px; width: calc(100% + 2px); position: absolute;\">\n",
       "</span>\n",
       "\n",
       "    \n",
       "</span>\n",
       "\n",
       "<span style=\"font-weight: bold; display: inline-block; position: relative; height: 77px;\">\n",
       "    I\n",
       "    \n",
       "<span style=\"background: orange; top: 40px; height: 4px; left: -1px; width: calc(100% + 2px); position: absolute;\">\n",
       "</span>\n",
       "\n",
       "<span style=\"background: red; top: 57px; height: 4px; left: -1px; width: calc(100% + 2px); position: absolute;\">\n",
       "</span>\n",
       "\n",
       "    \n",
       "<span style=\"background: red; top: 57px; height: 4px; border-top-left-radius: 3px; border-bottom-left-radius: 3px; left: -1px; width: calc(100% + 2px); position: absolute;\">\n",
       "    <span style=\"background: red; z-index: 10; color: #000; top: -0.5em; padding: 2px 3px; position: absolute; font-size: 0.6em; font-weight: bold; line-height: 1; border-radius: 3px\">\n",
       "        PHRASE2\n",
       "    </span>\n",
       "</span>\n",
       "\n",
       "\n",
       "</span>\n",
       "\n",
       "<span style=\"font-weight: bold; display: inline-block; position: relative; height: 77px;\">\n",
       "    was\n",
       "    \n",
       "<span style=\"background: orange; top: 40px; height: 4px; left: -1px; width: calc(100% + 2px); position: absolute;\">\n",
       "</span>\n",
       "\n",
       "<span style=\"background: red; top: 57px; height: 4px; left: -1px; width: calc(100% + 2px); position: absolute;\">\n",
       "</span>\n",
       "\n",
       "    \n",
       "</span>\n",
       "\n",
       "<span style=\"font-weight: bold; display: inline-block; position: relative; height: 77px;\">\n",
       "    inspired\n",
       "    \n",
       "<span style=\"background: orange; top: 40px; height: 4px; left: -1px; width: calc(100% + 2px); position: absolute;\">\n",
       "</span>\n",
       "\n",
       "<span style=\"background: red; top: 57px; height: 4px; left: -1px; width: calc(100% + 2px); position: absolute;\">\n",
       "</span>\n",
       "\n",
       "    \n",
       "</span>\n",
       "\n",
       "<span style=\"font-weight: bold; display: inline-block; position: relative; height: 77px;\">\n",
       "    to\n",
       "    \n",
       "<span style=\"background: orange; top: 40px; height: 4px; left: -1px; width: calc(100% + 2px); position: absolute;\">\n",
       "</span>\n",
       "\n",
       "<span style=\"background: red; top: 57px; height: 4px; left: -1px; width: calc(100% + 2px); position: absolute;\">\n",
       "</span>\n",
       "\n",
       "    \n",
       "</span>\n",
       "\n",
       "<span style=\"font-weight: bold; display: inline-block; position: relative; height: 77px;\">\n",
       "    develop\n",
       "    \n",
       "<span style=\"background: orange; top: 40px; height: 4px; left: -1px; width: calc(100% + 2px); position: absolute;\">\n",
       "</span>\n",
       "\n",
       "<span style=\"background: red; top: 57px; height: 4px; left: -1px; width: calc(100% + 2px); position: absolute;\">\n",
       "</span>\n",
       "\n",
       "    \n",
       "</span>\n",
       "\n",
       "<span style=\"font-weight: bold; display: inline-block; position: relative; height: 77px;\">\n",
       "    a\n",
       "    \n",
       "<span style=\"background: orange; top: 40px; height: 4px; left: -1px; width: calc(100% + 2px); position: absolute;\">\n",
       "</span>\n",
       "\n",
       "<span style=\"background: red; top: 57px; height: 4px; left: -1px; width: calc(100% + 2px); position: absolute;\">\n",
       "</span>\n",
       "\n",
       "    \n",
       "</span>\n",
       "\n",
       "<span style=\"font-weight: bold; display: inline-block; position: relative; height: 77px;\">\n",
       "    contemplation\n",
       "    \n",
       "<span style=\"background: orange; top: 40px; height: 4px; left: -1px; width: calc(100% + 2px); position: absolute;\">\n",
       "</span>\n",
       "\n",
       "<span style=\"background: red; top: 57px; height: 4px; left: -1px; width: calc(100% + 2px); position: absolute;\">\n",
       "</span>\n",
       "\n",
       "    \n",
       "</span>\n",
       "\n",
       "<span style=\"font-weight: bold; display: inline-block; position: relative; height: 77px;\">\n",
       "    practice\n",
       "    \n",
       "<span style=\"background: orange; top: 40px; height: 4px; left: -1px; width: calc(100% + 2px); position: absolute;\">\n",
       "</span>\n",
       "\n",
       "<span style=\"background: red; top: 57px; height: 4px; left: -1px; width: calc(100% + 2px); position: absolute;\">\n",
       "</span>\n",
       "\n",
       "    \n",
       "</span>\n",
       "\n",
       "<span style=\"font-weight: bold; display: inline-block; position: relative; height: 77px;\">\n",
       "    called\n",
       "    \n",
       "<span style=\"background: orange; top: 40px; height: 4px; left: -1px; width: calc(100% + 2px); position: absolute;\">\n",
       "</span>\n",
       "\n",
       "<span style=\"background: red; top: 57px; height: 4px; left: -1px; width: calc(100% + 2px); position: absolute;\">\n",
       "</span>\n",
       "\n",
       "    \n",
       "</span>\n",
       "\n",
       "<span style=\"font-weight: bold; display: inline-block; position: relative; height: 77px;\">\n",
       "    &quot;\n",
       "    \n",
       "<span style=\"background: orange; top: 40px; height: 4px; left: -1px; width: calc(100% + 2px); position: absolute;\">\n",
       "</span>\n",
       "\n",
       "<span style=\"background: red; top: 57px; height: 4px; left: -1px; width: calc(100% + 2px); position: absolute;\">\n",
       "</span>\n",
       "\n",
       "    \n",
       "</span>\n",
       "\n",
       "<span style=\"font-weight: bold; display: inline-block; position: relative; height: 77px;\">\n",
       "    Knowing\n",
       "    \n",
       "<span style=\"background: orange; top: 40px; height: 4px; left: -1px; width: calc(100% + 2px); position: absolute;\">\n",
       "</span>\n",
       "\n",
       "<span style=\"background: red; top: 57px; height: 4px; left: -1px; width: calc(100% + 2px); position: absolute;\">\n",
       "</span>\n",
       "\n",
       "    \n",
       "</span>\n",
       "\n",
       "<span style=\"font-weight: bold; display: inline-block; position: relative; height: 77px;\">\n",
       "    Gaia\n",
       "    \n",
       "<span style=\"background: orange; top: 40px; height: 4px; left: -1px; width: calc(100% + 2px); position: absolute;\">\n",
       "</span>\n",
       "\n",
       "<span style=\"background: red; top: 57px; height: 4px; left: -1px; width: calc(100% + 2px); position: absolute;\">\n",
       "</span>\n",
       "\n",
       "    \n",
       "</span>\n",
       "&quot; . I 've combined my experience of meditation and a Buddhist world view with a more contemporary approach which is not based on any spiritual authority . </div></span>"
      ],
      "text/plain": [
       "<IPython.core.display.HTML object>"
      ]
     },
     "metadata": {},
     "output_type": "display_data"
    }
   ],
   "source": [
    "from spacy import displacy\n",
    "from spacy.tokens import Span\n",
    "\n",
    "sents = list(chaps[0].sents)\n",
    "type(doc)\n",
    "type(sents)\n",
    "options = {\"colors\": {\"PHRASE1\": \"green\",\n",
    "                      \"PHRASE2\": \"red\",\n",
    "                      \"THOUGHT\": \"orange\"}}\n",
    "\n",
    "# type(chap[0]) = spacy.tokens.span.Span\n",
    "# type(chap[0][1:60]) = spacy.tokens.span.Span\n",
    "\n",
    "smalldoc=chaps[0][0:64].as_doc()\n",
    "span1 = Span(smalldoc, start=2, end=36, label=\"THOUGHT\")\n",
    "span2 = Span(smalldoc, start=4, end=23, label=\"PHRASE1\")  # Update indices as appropriate\n",
    "span3 = Span(smalldoc, start=24, end=36, label=\"PHRASE2\")  # Update indices as appropriate\n",
    "\n",
    "# Assign these new Span objects to a span group in smalldoc\n",
    "smalldoc.spans[\"sc\"] = [span1, span2, span3]\n",
    "\n",
    "displacy.render( smalldoc, style='span',options=options)"
   ]
  },
  {
   "cell_type": "markdown",
   "id": "1170ac26-8e54-4824-8e38-965700d83167",
   "metadata": {},
   "source": [
    "## Create the document structure\n",
    "We have 11 Chapters"
   ]
  },
  {
   "cell_type": "code",
   "execution_count": 118,
   "id": "8ca47657-28e6-4a5d-b302-9e6b4b3346be",
   "metadata": {},
   "outputs": [],
   "source": [
    "def parse_document(text):\n",
    "    # Initialize the chapters list with a placeholder for the Table of Contents\n",
    "    chapters = [{\"title\": \"Front matter\", \"lede\": [], \"sections\": []}]\n",
    "    prompts = []\n",
    "    chapter = None\n",
    "    chapter_number = 0\n",
    "\n",
    "    # Define prompt names for mapping\n",
    "    prompt_names = {\n",
    "        \"P1\": \"independently\",\n",
    "        \"P2\": \"integrated\",\n",
    "        \"P3\": \"dream\",\n",
    "        \"P4\": \"body\",\n",
    "        \"P5\": \"honesty\",\n",
    "        \"P6\": \"power\",\n",
    "        \"P7\": \"touched\",\n",
    "        \"P8\": \"ideology\",\n",
    "        \"P9\": \"presence\",\n",
    "        \"P10\": \"self\"\n",
    "    }\n",
    "\n",
    "    # Split the text into lines\n",
    "    lines = text.split('\\n')\n",
    "\n",
    "    for line in lines:\n",
    "        line = line.strip()\n",
    "        if not line:\n",
    "            continue\n",
    "\n",
    "        # Start a new chapter when we find a chapter line\n",
    "        if line.startswith('C') and line[1:].split(':', 1)[0].isdigit():\n",
    "            # Append the current chapter before starting a new one\n",
    "            if chapter is not None:\n",
    "                chapters.append(chapter)\n",
    "            chapter_number = int(line[1:].split(':', 1)[0])\n",
    "            chapter_title = line.split(':', 1)[1].strip()\n",
    "            chapter = {\n",
    "                \"title\": chapter_title,\n",
    "                \"lede\": [],\n",
    "                \"sections\": []\n",
    "            }\n",
    "            # Add chapter titles to the Table of Contents\n",
    "            chapters[0][\"sections\"].append({\"name\": chapter_title, \"paragraphs\": []})\n",
    "            continue  # Continue to the next iteration after starting a new chapter\n",
    "\n",
    "        # Handle prompts for chapters 3-10\n",
    "        if chapter_number >= 3 and chapter_number <= 10:\n",
    "            if line.startswith('P') and ':' in line:\n",
    "                prompt_key = line.split(':')[0].strip()\n",
    "                prompt_text = line.split(':', 1)[1].strip()\n",
    "                # Check if the prompt is already added to avoid duplicates\n",
    "                if not any(p['name'] == prompt_names[prompt_key] for p in prompts):\n",
    "                    prompts.append({\n",
    "                        \"name\": prompt_names[prompt_key],\n",
    "                        \"text\": prompt_text\n",
    "                    })\n",
    "                # Add the section with the prompt name if not already present\n",
    "                if not any(section[\"name\"] == prompt_names[prompt_key] for section in chapter[\"sections\"]):\n",
    "                    chapter[\"sections\"].append({\"name\": prompt_names[prompt_key], \"paragraphs\": []})\n",
    "                continue  # Continue to the next iteration after adding a prompt section\n",
    "\n",
    "            # If the line doesn't start with 'P', it's considered a paragraph for the current section\n",
    "            if chapter[\"sections\"]:\n",
    "                chapter[\"sections\"][-1].setdefault(\"paragraphs\", []).append(line)\n",
    "\n",
    "        # Handle lede for chapters 1, 2, and 11\n",
    "        elif chapter_number in [1, 2, 11]:\n",
    "            chapter[\"lede\"].append(line)\n",
    "\n",
    "    # Append the last chapter if it exists\n",
    "    if chapter is not None:\n",
    "        chapters.append(chapter)\n",
    "\n",
    "    return {\"chapters\": chapters, \"prompts\": prompts}\n"
   ]
  },
  {
   "cell_type": "code",
   "execution_count": 119,
   "id": "63cdf6bc-8937-4115-b7a2-bf5cde55876c",
   "metadata": {},
   "outputs": [],
   "source": [
    "p=parse_document(text)"
   ]
  },
  {
   "cell_type": "code",
   "execution_count": 120,
   "id": "b2e8cc7e-2a51-4700-8bbb-b7530a9bdef9",
   "metadata": {},
   "outputs": [],
   "source": [
    "import json\n",
    "# Convert the dictionary to a JSON-formatted string\n",
    "json_string = json.dumps(p)\n",
    "json_data = json.loads(json_string)\n",
    "\n",
    "# Now write the JSON data to a file\n",
    "with open('spacy.json', 'w', encoding='utf-8') as f:\n",
    "    json.dump(json_data, f, ensure_ascii=False, indent=4)"
   ]
  },
  {
   "cell_type": "code",
   "execution_count": 3,
   "id": "dfdbe912-6870-4289-b079-8a7a2d88488a",
   "metadata": {},
   "outputs": [],
   "source": [
    "%reload_ext jupyter_ai"
   ]
  },
  {
   "cell_type": "code",
   "execution_count": 4,
   "id": "acee7ca0-2abd-4926-b54d-a108e3368d7b",
   "metadata": {},
   "outputs": [
    {
     "data": {
      "text/markdown": [
       "Cannot determine model provider from model ID `chat`.\n",
       "\n",
       "To see a list of models you can use, run `%ai list`\n",
       "\n",
       "If you were trying to run a command, run `%ai help` to see a list of commands."
      ],
      "text/plain": [
       "Cannot determine model provider from model ID 'chat'.\n",
       "\n",
       "To see a list of models you can use, run '%ai list'\n",
       "\n",
       "If you were trying to run a command, run '%ai help' to see a list of commands."
      ]
     },
     "execution_count": 4,
     "metadata": {},
     "output_type": "execute_result"
    }
   ],
   "source": [
    "%%ai chat --format code\n",
    "find the number of bits of information in a string"
   ]
  },
  {
   "cell_type": "code",
   "execution_count": 5,
   "id": "e7188533-3424-460b-9af0-e0289a2b1c93",
   "metadata": {},
   "outputs": [
    {
     "data": {
      "text/markdown": [
       "| Provider | Environment variable | Set? | Models |\n",
       "|----------|----------------------|------|--------|\n",
       "| `ai21` | `AI21_API_KEY` | <abbr title=\"You have not set this environment variable, so you cannot use this provider's models.\">❌</abbr> | <ul><li>`ai21:j1-large`</li><li>`ai21:j1-grande`</li><li>`ai21:j1-jumbo`</li><li>`ai21:j1-grande-instruct`</li><li>`ai21:j2-large`</li><li>`ai21:j2-grande`</li><li>`ai21:j2-jumbo`</li><li>`ai21:j2-grande-instruct`</li><li>`ai21:j2-jumbo-instruct`</li></ul> |\n",
       "| `gpt4all` | Not applicable. | <abbr title=\"Not applicable\">N/A</abbr> | <ul><li>`gpt4all:ggml-gpt4all-j-v1.2-jazzy`</li><li>`gpt4all:ggml-gpt4all-j-v1.3-groovy`</li><li>`gpt4all:ggml-gpt4all-l13b-snoozy`</li><li>`gpt4all:mistral-7b-openorca.Q4_0`</li><li>`gpt4all:mistral-7b-instruct-v0.1.Q4_0`</li><li>`gpt4all:gpt4all-falcon-q4_0`</li><li>`gpt4all:wizardlm-13b-v1.2.Q4_0`</li><li>`gpt4all:nous-hermes-llama2-13b.Q4_0`</li><li>`gpt4all:gpt4all-13b-snoozy-q4_0`</li><li>`gpt4all:mpt-7b-chat-merges-q4_0`</li><li>`gpt4all:orca-mini-3b-gguf2-q4_0`</li><li>`gpt4all:starcoder-q4_0`</li><li>`gpt4all:rift-coder-v0-7b-q4_0`</li><li>`gpt4all:em_german_mistral_v01.Q4_0`</li></ul> |\n",
       "| `huggingface_hub` | `HUGGINGFACEHUB_API_TOKEN` | <abbr title=\"You have not set this environment variable, so you cannot use this provider's models.\">❌</abbr> | See [https://huggingface.co/models](https://huggingface.co/models) for a list of models. Pass a model's repository ID as the model ID; for example, `huggingface_hub:ExampleOwner/example-model`. |\n",
       "| `nvidia-chat` | `NVIDIA_API_KEY` | <abbr title=\"You have not set this environment variable, so you cannot use this provider's models.\">❌</abbr> | <ul><li>`nvidia-chat:playground_llama2_70b`</li><li>`nvidia-chat:playground_nemotron_steerlm_8b`</li><li>`nvidia-chat:playground_mistral_7b`</li><li>`nvidia-chat:playground_nv_llama2_rlhf_70b`</li><li>`nvidia-chat:playground_llama2_13b`</li><li>`nvidia-chat:playground_steerlm_llama_70b`</li><li>`nvidia-chat:playground_llama2_code_13b`</li><li>`nvidia-chat:playground_yi_34b`</li><li>`nvidia-chat:playground_mixtral_8x7b`</li><li>`nvidia-chat:playground_neva_22b`</li><li>`nvidia-chat:playground_llama2_code_34b`</li></ul> |\n",
       "| `ollama` | Not applicable. | <abbr title=\"Not applicable\">N/A</abbr> | See [https://www.ollama.com/library](https://www.ollama.com/library) for a list of models. Pass a model's name; for example, `deepseek-coder-v2`. |\n",
       "| `qianfan` | `QIANFAN_AK`, `QIANFAN_SK` | <abbr title=\"You have not set all of these environment variables, so you cannot use this provider's models.\">❌</abbr> | <ul><li>`qianfan:ERNIE-Bot`</li><li>`qianfan:ERNIE-Bot-4`</li></ul> |\n",
       "| `togetherai` | `TOGETHER_API_KEY` | <abbr title=\"You have not set this environment variable, so you cannot use this provider's models.\">❌</abbr> | <ul><li>`togetherai:Austism/chronos-hermes-13b`</li><li>`togetherai:DiscoResearch/DiscoLM-mixtral-8x7b-v2`</li><li>`togetherai:EleutherAI/llemma_7b`</li><li>`togetherai:Gryphe/MythoMax-L2-13b`</li><li>`togetherai:Meta-Llama/Llama-Guard-7b`</li><li>`togetherai:Nexusflow/NexusRaven-V2-13B`</li><li>`togetherai:NousResearch/Nous-Capybara-7B-V1p9`</li><li>`togetherai:NousResearch/Nous-Hermes-2-Yi-34B`</li><li>`togetherai:NousResearch/Nous-Hermes-Llama2-13b`</li><li>`togetherai:NousResearch/Nous-Hermes-Llama2-70b`</li></ul> |\n",
       "\n",
       "Aliases and custom commands:\n",
       "\n",
       "| Name | Target |\n",
       "|------|--------|\n",
       "| `gpt2` | `huggingface_hub:gpt2` |\n",
       "| `gpt3` | `openai:davinci-002` |\n",
       "| `chatgpt` | `openai-chat:gpt-3.5-turbo` |\n",
       "| `gpt4` | `openai-chat:gpt-4` |\n",
       "| `ernie-bot` | `qianfan:ERNIE-Bot` |\n",
       "| `ernie-bot-4` | `qianfan:ERNIE-Bot-4` |\n",
       "| `titan` | `bedrock:amazon.titan-tg1-large` |\n"
      ],
      "text/plain": [
       "ai21\n",
       "Requires environment variable: AI21_API_KEY (not set)\n",
       "* ai21:j1-large\n",
       "* ai21:j1-grande\n",
       "* ai21:j1-jumbo\n",
       "* ai21:j1-grande-instruct\n",
       "* ai21:j2-large\n",
       "* ai21:j2-grande\n",
       "* ai21:j2-jumbo\n",
       "* ai21:j2-grande-instruct\n",
       "* ai21:j2-jumbo-instruct\n",
       "\n",
       "gpt4all\n",
       "* gpt4all:ggml-gpt4all-j-v1.2-jazzy\n",
       "* gpt4all:ggml-gpt4all-j-v1.3-groovy\n",
       "* gpt4all:ggml-gpt4all-l13b-snoozy\n",
       "* gpt4all:mistral-7b-openorca.Q4_0\n",
       "* gpt4all:mistral-7b-instruct-v0.1.Q4_0\n",
       "* gpt4all:gpt4all-falcon-q4_0\n",
       "* gpt4all:wizardlm-13b-v1.2.Q4_0\n",
       "* gpt4all:nous-hermes-llama2-13b.Q4_0\n",
       "* gpt4all:gpt4all-13b-snoozy-q4_0\n",
       "* gpt4all:mpt-7b-chat-merges-q4_0\n",
       "* gpt4all:orca-mini-3b-gguf2-q4_0\n",
       "* gpt4all:starcoder-q4_0\n",
       "* gpt4all:rift-coder-v0-7b-q4_0\n",
       "* gpt4all:em_german_mistral_v01.Q4_0\n",
       "\n",
       "huggingface_hub\n",
       "Requires environment variable: HUGGINGFACEHUB_API_TOKEN (not set)\n",
       "* See [https://huggingface.co/models](https://huggingface.co/models) for a list of models. Pass a model's repository ID as the model ID; for example, `huggingface_hub:ExampleOwner/example-model`.\n",
       "\n",
       "nvidia-chat\n",
       "Requires environment variable: NVIDIA_API_KEY (not set)\n",
       "* nvidia-chat:playground_llama2_70b\n",
       "* nvidia-chat:playground_nemotron_steerlm_8b\n",
       "* nvidia-chat:playground_mistral_7b\n",
       "* nvidia-chat:playground_nv_llama2_rlhf_70b\n",
       "* nvidia-chat:playground_llama2_13b\n",
       "* nvidia-chat:playground_steerlm_llama_70b\n",
       "* nvidia-chat:playground_llama2_code_13b\n",
       "* nvidia-chat:playground_yi_34b\n",
       "* nvidia-chat:playground_mixtral_8x7b\n",
       "* nvidia-chat:playground_neva_22b\n",
       "* nvidia-chat:playground_llama2_code_34b\n",
       "\n",
       "ollama\n",
       "* See [https://www.ollama.com/library](https://www.ollama.com/library) for a list of models. Pass a model's name; for example, `deepseek-coder-v2`.\n",
       "\n",
       "qianfan\n",
       "Requires environment variables: QIANFAN_AK (not set), QIANFAN_SK (not set)\n",
       "* qianfan:ERNIE-Bot\n",
       "* qianfan:ERNIE-Bot-4\n",
       "\n",
       "togetherai\n",
       "Requires environment variable: TOGETHER_API_KEY (not set)\n",
       "* togetherai:Austism/chronos-hermes-13b\n",
       "* togetherai:DiscoResearch/DiscoLM-mixtral-8x7b-v2\n",
       "* togetherai:EleutherAI/llemma_7b\n",
       "* togetherai:Gryphe/MythoMax-L2-13b\n",
       "* togetherai:Meta-Llama/Llama-Guard-7b\n",
       "* togetherai:Nexusflow/NexusRaven-V2-13B\n",
       "* togetherai:NousResearch/Nous-Capybara-7B-V1p9\n",
       "* togetherai:NousResearch/Nous-Hermes-2-Yi-34B\n",
       "* togetherai:NousResearch/Nous-Hermes-Llama2-13b\n",
       "* togetherai:NousResearch/Nous-Hermes-Llama2-70b\n",
       "\n",
       "\n",
       "Aliases and custom commands:\n",
       "gpt2 - huggingface_hub:gpt2\n",
       "gpt3 - openai:davinci-002\n",
       "chatgpt - openai-chat:gpt-3.5-turbo\n",
       "gpt4 - openai-chat:gpt-4\n",
       "ernie-bot - qianfan:ERNIE-Bot\n",
       "ernie-bot-4 - qianfan:ERNIE-Bot-4\n",
       "titan - bedrock:amazon.titan-tg1-large\n"
      ]
     },
     "execution_count": 5,
     "metadata": {},
     "output_type": "execute_result"
    }
   ],
   "source": [
    "%ai list"
   ]
  },
  {
   "cell_type": "code",
   "execution_count": null,
   "id": "ccf7f561-df19-4575-84f6-bcfd6fd0ed2d",
   "metadata": {},
   "outputs": [],
   "source": []
  }
 ],
 "metadata": {
  "kernelspec": {
   "display_name": "Python 3 (ipykernel)",
   "language": "python",
   "name": "python3"
  },
  "language_info": {
   "codemirror_mode": {
    "name": "ipython",
    "version": 3
   },
   "file_extension": ".py",
   "mimetype": "text/x-python",
   "name": "python",
   "nbconvert_exporter": "python",
   "pygments_lexer": "ipython3",
   "version": "3.8.10"
  }
 },
 "nbformat": 4,
 "nbformat_minor": 5
}
